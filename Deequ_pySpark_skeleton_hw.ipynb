{
 "cells": [
  {
   "cell_type": "code",
   "execution_count": 16,
   "metadata": {},
   "outputs": [
    {
     "name": "stdout",
     "output_type": "stream",
     "text": [
      "env: SPARK_VERSION=3.0.0 # TODO PUT YOUR VALUE\n",
      "Requirement already satisfied: pydeequ in /opt/conda/lib/python3.9/site-packages (1.0.1)\n",
      "Requirement already satisfied: pandas>=0.23.0 in /opt/conda/lib/python3.9/site-packages (from pydeequ) (1.3.4)\n",
      "Requirement already satisfied: numpy>=1.14.1 in /opt/conda/lib/python3.9/site-packages (from pydeequ) (1.20.3)\n",
      "Requirement already satisfied: python-dateutil>=2.7.3 in /opt/conda/lib/python3.9/site-packages (from pandas>=0.23.0->pydeequ) (2.8.2)\n",
      "Requirement already satisfied: pytz>=2017.3 in /opt/conda/lib/python3.9/site-packages (from pandas>=0.23.0->pydeequ) (2021.3)\n",
      "Requirement already satisfied: six>=1.5 in /opt/conda/lib/python3.9/site-packages (from python-dateutil>=2.7.3->pandas>=0.23.0->pydeequ) (1.16.0)\n"
     ]
    }
   ],
   "source": [
    "%env SPARK_VERSION=3.0.0 # TODO PUT YOUR VALUE\n",
    "\n",
    "import sys\n",
    "!{sys.executable} -m pip install pydeequ\n",
    "\n"
   ]
  },
  {
   "cell_type": "code",
   "execution_count": 17,
   "metadata": {},
   "outputs": [
    {
     "name": "stdout",
     "output_type": "stream",
     "text": [
      "3.0.0\n"
     ]
    }
   ],
   "source": [
    "import pydeequ\n",
    "\n",
    "from pyspark.sql import SparkSession, Row\n",
    "from pyspark import SparkConf, SparkContext, SQLContext\n",
    "\n",
    "\n",
    "appName = \"PySpark SQL Server Example - via JDBC\"\n",
    "master = \"local[*]\"\n",
    "conf = SparkConf() \\\n",
    ".setAppName(appName) \\\n",
    ".setMaster(master) \\\n",
    ".set(\"spark.driver.extraClassPath\",\"/home/jovyan/work/mssql-jdbc-8.4.1.jre11.jar\") \\\n",
    ".set(\"spark.jars.packages\",pydeequ.deequ_maven_coord) \\\n",
    ".set(\"spark.jars.excludes\",pydeequ.f2j_maven_coord)\n",
    "# mssql-jdbc-7.2.2.jre11.jar\n",
    "\n",
    "\n",
    "\n",
    "sc = SparkContext.getOrCreate(conf=conf)\n",
    "sqlContext = SQLContext(sc)\n",
    "\n",
    "\n",
    "\n",
    "spark = sqlContext.sparkSession\n",
    "\n",
    "print(sc.version)\n",
    "# TODO create spark session with jdbc driver path"
   ]
  },
  {
   "cell_type": "code",
   "execution_count": 18,
   "metadata": {},
   "outputs": [
    {
     "name": "stdout",
     "output_type": "stream",
     "text": [
      "+---------+--------------------+-------------+--------+-----------------+------+----------------+------------+------------+---------+----+-------------------+---------------------+------+-----------------+-----------+-----+-----+--------------------+--------------+-------------------+-----------+----------------+--------------------+--------------------+\n",
      "|ProductID|                Name|ProductNumber|MakeFlag|FinishedGoodsFlag| Color|SafetyStockLevel|ReorderPoint|StandardCost|ListPrice|Size|SizeUnitMeasureCode|WeightUnitMeasureCode|Weight|DaysToManufacture|ProductLine|Class|Style|ProductSubcategoryID|ProductModelID|      SellStartDate|SellEndDate|DiscontinuedDate|             rowguid|        ModifiedDate|\n",
      "+---------+--------------------+-------------+--------+-----------------+------+----------------+------------+------------+---------+----+-------------------+---------------------+------+-----------------+-----------+-----+-----+--------------------+--------------+-------------------+-----------+----------------+--------------------+--------------------+\n",
      "|        1|     Adjustable Race|      AR-5381|   false|            false|  null|            1000|         750|      0.0000|   0.0000|null|               null|                 null|  null|                0|       null| null| null|                null|          null|2008-04-30 00:00:00|       null|            null|694215B7-08F7-4C0...|2014-02-08 10:01:...|\n",
      "|        2|        Bearing Ball|      BA-8327|   false|            false|  null|            1000|         750|      0.0000|   0.0000|null|               null|                 null|  null|                0|       null| null| null|                null|          null|2008-04-30 00:00:00|       null|            null|58AE3C20-4F3A-474...|2014-02-08 10:01:...|\n",
      "|        3|     BB Ball Bearing|      BE-2349|    true|            false|  null|             800|         600|      0.0000|   0.0000|null|               null|                 null|  null|                1|       null| null| null|                null|          null|2008-04-30 00:00:00|       null|            null|9C21AED2-5BFA-4F1...|2014-02-08 10:01:...|\n",
      "|        4|Headset Ball Bear...|      BE-2908|   false|            false|  null|             800|         600|      0.0000|   0.0000|null|               null|                 null|  null|                0|       null| null| null|                null|          null|2008-04-30 00:00:00|       null|            null|ECFED6CB-51FF-49B...|2014-02-08 10:01:...|\n",
      "|      316|               Blade|      BL-2036|    true|            false|  null|             800|         600|      0.0000|   0.0000|null|               null|                 null|  null|                1|       null| null| null|                null|          null|2008-04-30 00:00:00|       null|            null|E73E9750-603B-413...|2014-02-08 10:01:...|\n",
      "|      317|         LL Crankarm|      CA-5965|   false|            false| Black|             500|         375|      0.0000|   0.0000|null|               null|                 null|  null|                0|       null|   L | null|                null|          null|2008-04-30 00:00:00|       null|            null|3C9D10B7-A6B2-477...|2014-02-08 10:01:...|\n",
      "|      318|         ML Crankarm|      CA-6738|   false|            false| Black|             500|         375|      0.0000|   0.0000|null|               null|                 null|  null|                0|       null|   M | null|                null|          null|2008-04-30 00:00:00|       null|            null|EABB9A92-FA07-4EA...|2014-02-08 10:01:...|\n",
      "|      319|         HL Crankarm|      CA-7457|   false|            false| Black|             500|         375|      0.0000|   0.0000|null|               null|                 null|  null|                0|       null| null| null|                null|          null|2008-04-30 00:00:00|       null|            null|7D3FD384-4F29-484...|2014-02-08 10:01:...|\n",
      "|      320|     Chainring Bolts|      CB-2903|   false|            false|Silver|            1000|         750|      0.0000|   0.0000|null|               null|                 null|  null|                0|       null| null| null|                null|          null|2008-04-30 00:00:00|       null|            null|7BE38E48-B7D6-448...|2014-02-08 10:01:...|\n",
      "|      321|       Chainring Nut|      CN-6137|   false|            false|Silver|            1000|         750|      0.0000|   0.0000|null|               null|                 null|  null|                0|       null| null| null|                null|          null|2008-04-30 00:00:00|       null|            null|3314B1D7-EF69-443...|2014-02-08 10:01:...|\n",
      "|      322|           Chainring|      CR-7833|   false|            false| Black|            1000|         750|      0.0000|   0.0000|null|               null|                 null|  null|                0|       null| null| null|                null|          null|2008-04-30 00:00:00|       null|            null|F0AC2C4D-1A1F-4E3...|2014-02-08 10:01:...|\n",
      "|      323|          Crown Race|      CR-9981|   false|            false|  null|            1000|         750|      0.0000|   0.0000|null|               null|                 null|  null|                0|       null| null| null|                null|          null|2008-04-30 00:00:00|       null|            null|51A32CA6-65A1-4C3...|2014-02-08 10:01:...|\n",
      "|      324|         Chain Stays|      CS-2812|    true|            false|  null|            1000|         750|      0.0000|   0.0000|null|               null|                 null|  null|                1|       null| null| null|                null|          null|2008-04-30 00:00:00|       null|            null|FE0678ED-AEF2-4C5...|2014-02-08 10:01:...|\n",
      "|      325|             Decal 1|      DC-8732|   false|            false|  null|            1000|         750|      0.0000|   0.0000|null|               null|                 null|  null|                0|       null| null| null|                null|          null|2008-04-30 00:00:00|       null|            null|05CE123C-A402-478...|2014-02-08 10:01:...|\n",
      "|      326|             Decal 2|      DC-9824|   false|            false|  null|            1000|         750|      0.0000|   0.0000|null|               null|                 null|  null|                0|       null| null| null|                null|          null|2008-04-30 00:00:00|       null|            null|A56851F9-1CD7-4E2...|2014-02-08 10:01:...|\n",
      "|      327|           Down Tube|      DT-2377|    true|            false|  null|             800|         600|      0.0000|   0.0000|null|               null|                 null|  null|                1|       null| null| null|                null|          null|2008-04-30 00:00:00|       null|            null|1DAD47DD-E259-42B...|2014-02-08 10:01:...|\n",
      "|      328|   Mountain End Caps|      EC-M092|    true|            false|  null|            1000|         750|      0.0000|   0.0000|null|               null|                 null|  null|                1|       null| null| null|                null|          null|2008-04-30 00:00:00|       null|            null|6070B1EA-59B7-4F8...|2014-02-08 10:01:...|\n",
      "|      329|       Road End Caps|      EC-R098|    true|            false|  null|            1000|         750|      0.0000|   0.0000|null|               null|                 null|  null|                1|       null| null| null|                null|          null|2008-04-30 00:00:00|       null|            null|88399D13-719E-454...|2014-02-08 10:01:...|\n",
      "|      330|    Touring End Caps|      EC-T209|    true|            false|  null|            1000|         750|      0.0000|   0.0000|null|               null|                 null|  null|                1|       null| null| null|                null|          null|2008-04-30 00:00:00|       null|            null|6903CE24-D0CE-419...|2014-02-08 10:01:...|\n",
      "|      331|            Fork End|      FE-3760|    true|            false|  null|             800|         600|      0.0000|   0.0000|null|               null|                 null|  null|                1|       null| null| null|                null|          null|2008-04-30 00:00:00|       null|            null|C91D602E-DA52-43D...|2014-02-08 10:01:...|\n",
      "+---------+--------------------+-------------+--------+-----------------+------+----------------+------------+------------+---------+----+-------------------+---------------------+------+-----------------+-----------+-----+-----+--------------------+--------------+-------------------+-----------+----------------+--------------------+--------------------+\n",
      "only showing top 20 rows\n",
      "\n"
     ]
    }
   ],
   "source": [
    "server_url = \"host.docker.internal\" # think what should be here\n",
    "database_name = \"AdventureWorks2012\"\n",
    "url = server_url + \";\" + \"databaseName=\" + database_name + \";\"\n",
    "\n",
    "\n",
    "\n",
    "table = \"Production.Product\"\n",
    "user = \"sa\" # your user creds here\n",
    "password = \"1ExoticFruit2/\" # your user creds here\n",
    "\n",
    "\n",
    "\n",
    "jdbcDF = spark.read.format(\"jdbc\") \\\n",
    ".option(\"driver\" , \"com.microsoft.sqlserver.jdbc.SQLServerDriver\") \\\n",
    ".option(\"url\", f\"jdbc:sqlserver://host.docker.internal\\\\SQLEXPRESS;databaseName={database_name}\") \\\n",
    ".option(\"dbtable\", table) \\\n",
    ".option(\"user\", user) \\\n",
    ".option(\"password\", password) \\\n",
    ".load()\n",
    "\n",
    "\n",
    "\n",
    "jdbcDF.show()\n",
    "# TODO connect to DB with Spark using JDBC connection to read the data"
   ]
  },
  {
   "cell_type": "code",
   "execution_count": 19,
   "metadata": {},
   "outputs": [
    {
     "ename": "SyntaxError",
     "evalue": "unexpected character after line continuation character (3818158348.py, line 7)",
     "output_type": "error",
     "traceback": [
      "\u001b[0;36m  File \u001b[0;32m\"/tmp/ipykernel_56/3818158348.py\"\u001b[0;36m, line \u001b[0;32m7\u001b[0m\n\u001b[0;31m    .addAnalyzer(Completeness(\"ProductNumber\")) \\    #to analyze how many null values in column\u001b[0m\n\u001b[0m                          ^\u001b[0m\n\u001b[0;31mSyntaxError\u001b[0m\u001b[0;31m:\u001b[0m unexpected character after line continuation character\n"
     ]
    }
   ],
   "source": [
    "### Data Analyzers section\n",
    "from pydeequ.analyzers import *\n",
    "\n",
    "analysisResult = AnalysisRunner(spark) \\\n",
    "                 .onData(jdbcDF) \\\n",
    "                 .addAnalyzer(Size()) \\\n",
    "                 .addAnalyzer(Completeness(\"ProductNumber\")) \\    #to analyze how many null values in column\n",
    "                 .addAnalyzer(CountDistinct(\"ProductNumber\")) \\   #to analyze number of disitnct values\n",
    "                 .addAnalyzer(Mean(\"StandardCost\")) \\             #avarage cost of product\n",
    "                 .addAnalyzer(Minimum(\"SafetyStockLevel\")) \\\n",
    "                 .addAnalyzer(Maximum(\"SafetyStockLevel\")) \\\n",
    "                 .run()\n",
    "\n",
    "analysisResult_df = AnalyzerContext.successMetricsAsDataFrame(spark, analysisResult)\n",
    "analysisResult_df.show()\n",
    "\n",
    "# TODO analyze data here"
   ]
  },
  {
   "cell_type": "code",
   "execution_count": null,
   "metadata": {},
   "outputs": [],
   "source": [
    "### Data profiling section\n",
    "from pydeequ.profiles import *\n",
    "\n",
    "resultProfile = ColumnProfilerRunner(spark) \\\n",
    "                .onData(jdbcDF) \\\n",
    "                .run()\n",
    "\n",
    "for col, profile in resultProfile.profiles.items():\n",
    "    print(profile)\n",
    "    \n",
    "# TODO profile data here"
   ]
  },
  {
   "cell_type": "code",
   "execution_count": null,
   "metadata": {},
   "outputs": [],
   "source": [
    "### Constraint Suggestions section\n",
    "from pydeequ.suggestions import *\n",
    "\n",
    "suggestionResult = ConstraintSuggestionRunner(spark) \\\n",
    "                   .onData(jdbcDF) \\\n",
    "                   .addConstraintRule(DEFAULT()) \\\n",
    "                   .run()\n",
    "\n",
    "print(json.dumps(suggestionResult, indent = 2))\n",
    "\n",
    "# TODO find meaninful constraints here"
   ]
  },
  {
   "cell_type": "code",
   "execution_count": null,
   "metadata": {},
   "outputs": [],
   "source": [
    "### Constraint Verification section\n",
    "import pandas as pd\n",
    "from pydeequ.checks import *\n",
    "from pydeequ.verification import *\n",
    "\n",
    "check = Check(spark, CheckLevel.Warning, \"Product Review Check\")\n",
    "\n",
    "checkResult = VerificationSuite(spark) \\\n",
    "              .onData(jdbcDF) \\\n",
    "              .addCheck(\n",
    "                check.hasSize(lambda x: x >= 500) \\\n",
    "                .isUnique(\"ProductNumber\") \\\n",
    "                .isNonNegative(\"StandardCost\") \\\n",
    "                .isContainedIn(\"Class\", [\"L\", \"H\", \"M\"])) \\\n",
    "              .run()\n",
    "\n",
    "checkResult_df = VerificationResult.checkResultsAsDataFrame(spark, checkResult)\n",
    "checkResult_df.show()\n",
    "\n",
    "# TODO check selected constraints here and make beautify the report"
   ]
  },
  {
   "cell_type": "code",
   "execution_count": null,
   "metadata": {},
   "outputs": [],
   "source": [
    "# write Dataframe with results into html file and copy it to local machine\n",
    "\n",
    "import os\n",
    "import shutil\n",
    "\n",
    "report = checkResult_df.toPandas().to_html()\n",
    "print(report)\n",
    "\n",
    "file = open(\"/home/jovyan/work/index.html\", 'w')\n",
    "file.write(report)\n",
    "file.close()\n",
    "\n",
    "source = '/home/jovyan/work/index.html'\n",
    "target = 'C:\\\\Users\\\\Anastasiya_Silivonch'\n",
    "\n",
    "try:\n",
    "    shutil.copy(source, target)\n",
    "except IOError as e:\n",
    "    print(\"Unable to copy file. %s\" % e)\n",
    "except:\n",
    "    print(\"Unexpected error:\", sys.exc_info())"
   ]
  },
  {
   "cell_type": "code",
   "execution_count": null,
   "metadata": {},
   "outputs": [],
   "source": []
  }
 ],
 "metadata": {
  "kernelspec": {
   "display_name": "Python 3 (ipykernel)",
   "language": "python",
   "name": "python3"
  },
  "language_info": {
   "codemirror_mode": {
    "name": "ipython",
    "version": 3
   },
   "file_extension": ".py",
   "mimetype": "text/x-python",
   "name": "python",
   "nbconvert_exporter": "python",
   "pygments_lexer": "ipython3",
   "version": "3.9.7"
  }
 },
 "nbformat": 4,
 "nbformat_minor": 4
}
